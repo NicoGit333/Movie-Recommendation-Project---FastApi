{
 "cells": [
  {
   "cell_type": "code",
   "execution_count": 3,
   "metadata": {},
   "outputs": [],
   "source": [
    "import pandas as pd \n",
    "import numpy as np"
   ]
  },
  {
   "cell_type": "code",
   "execution_count": 29,
   "metadata": {},
   "outputs": [],
   "source": [
    "amazon = pd.read_csv('amazon_prime_titles.csv')\n",
    "disney = pd.read_csv('disney_plus_titles.csv')\n",
    "hulu = pd.read_csv('hulu_titles.csv')\n",
    "netflix = pd.read_csv('netflix_titles.csv')"
   ]
  },
  {
   "cell_type": "code",
   "execution_count": 30,
   "metadata": {},
   "outputs": [],
   "source": [
    "amazon['plataforma'] = 'amazon'               # Generamos campo 'id'\n",
    "amazon['id'] = 'a' + amazon['show_id']\n",
    "netflix['plataforma'] = 'netflix'\n",
    "netflix['id'] = 'n' + netflix['show_id']\n",
    "disney['plataforma'] = 'disney'\n",
    "disney['id'] = 'd' + disney['show_id']\n",
    "hulu['plataforma'] = 'hulu'\n",
    "hulu['id'] = 'h' + hulu['show_id']"
   ]
  },
  {
   "cell_type": "code",
   "execution_count": 32,
   "metadata": {},
   "outputs": [],
   "source": [
    "amazon['date_added'] = amazon['date_added'].str.lstrip()          # Pongo todas las fechas en formato AAAA-mm-dd, usando la funcion to_datetime\n",
    "amazon['date_added'] = amazon['date_added'].str.rstrip()\n",
    "amazon['date_added'] = pd.to_datetime(amazon['date_added'], format= '%B %d, %Y')\n",
    "\n",
    "disney['date_added'] = disney['date_added'].str.lstrip()\n",
    "disney['date_added'] = disney['date_added'].str.rstrip()\n",
    "disney['date_added'] = pd.to_datetime(disney['date_added'], format= '%B %d, %Y')\n",
    "\n",
    "hulu['date_added'] = hulu['date_added'].str.lstrip()\n",
    "hulu['date_added'] = hulu['date_added'].str.rstrip()\n",
    "hulu['date_added'] = pd.to_datetime(hulu['date_added'], format= '%B %d, %Y')\n",
    "\n",
    "netflix['date_added'] = netflix['date_added'].str.lstrip()\n",
    "netflix['date_added'] = netflix['date_added'].str.rstrip()\n",
    "netflix['date_added'] = pd.to_datetime(amazon['date_added'], format= '%B %d, %Y')"
   ]
  },
  {
   "cell_type": "code",
   "execution_count": 35,
   "metadata": {},
   "outputs": [],
   "source": [
    "separacion_amazon = amazon['duration'].str.split(' ', n=1, expand=True)    # Separamos el tipo de duracion de cada plataforma\n",
    "separacion_netflix = netflix['duration'].str.split(' ', n=1, expand=True)\n",
    "separacion_disney = disney['duration'].str.split(' ', n=1, expand=True)\n",
    "separacion_hulu = hulu['duration'].str.split(' ', n=1, expand=True)\n",
    "\n",
    "amazon['duration_int'] = separacion_amazon[0]\n",
    "amazon['duration_type'] = separacion_amazon[1]\n",
    "\n",
    "disney['duration_int'] = separacion_disney[0]\n",
    "disney['duration_type'] = separacion_disney[1]\n",
    "\n",
    "hulu['duration_int'] = separacion_hulu[0]\n",
    "hulu['duration_type'] = separacion_hulu[1]\n",
    "\n",
    "netflix['duration_int'] = separacion_netflix[0]\n",
    "netflix['duration_type'] = separacion_netflix[1]"
   ]
  },
  {
   "cell_type": "code",
   "execution_count": 37,
   "metadata": {},
   "outputs": [],
   "source": [
    "data = pd.concat([amazon, netflix, disney, hulu]) #Concatenamos todos los DF para tenerlos en un solo Dataframe"
   ]
  },
  {
   "cell_type": "code",
   "execution_count": 38,
   "metadata": {},
   "outputs": [],
   "source": [
    "data['show_id'] = data['show_id'].str.lower()    # Normalizamos el Dataframe para una mayor comprension, pasandolo todo a minuscula\n",
    "data['type'] = data['type'].str.lower()\n",
    "data['title'] = data['title'].str.lower()\n",
    "data['director'] = data['director'].str.lower()\n",
    "data['cast'] = data['cast'].str.lower()\n",
    "data['country'] = data['country'].str.lower()\n",
    "data['rating'] = data['rating'].str.lower()\n",
    "data['duration'] = data['duration'].str.lower()\n",
    "data['listed_in'] = data['listed_in'].str.lower()\n",
    "data['description'] = data['description'].str.lower()\n",
    "data['plataforma'] = data['plataforma'].str.lower()\n",
    "data['id'] = data['id'].str.lower()\n",
    "data['duration_type'] = data['duration_type'].str.lower()"
   ]
  },
  {
   "cell_type": "code",
   "execution_count": 40,
   "metadata": {},
   "outputs": [],
   "source": [
    "data.rating.fillna('G',inplace= True)  # Reemplazo los valores Nulos por el caracter \"G\" que quiere decir General For All Audiences\""
   ]
  },
  {
   "cell_type": "code",
   "execution_count": 42,
   "metadata": {},
   "outputs": [],
   "source": [
    "data.to_csv('df_data.csv', index=False)  "
   ]
  }
 ],
 "metadata": {
  "kernelspec": {
   "display_name": "Python 3",
   "language": "python",
   "name": "python3"
  },
  "language_info": {
   "codemirror_mode": {
    "name": "ipython",
    "version": 3
   },
   "file_extension": ".py",
   "mimetype": "text/x-python",
   "name": "python",
   "nbconvert_exporter": "python",
   "pygments_lexer": "ipython3",
   "version": "3.11.2"
  },
  "orig_nbformat": 4,
  "vscode": {
   "interpreter": {
    "hash": "524109f4502897c0cebd03c42893e61bb28c88fa6a5398dbc2489d361e5a6984"
   }
  }
 },
 "nbformat": 4,
 "nbformat_minor": 2
}
